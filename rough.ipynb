{
 "cells": [
  {
   "cell_type": "code",
   "execution_count": 4,
   "metadata": {},
   "outputs": [],
   "source": [
    "import gspread\n",
    "import pandas as pd\n",
    "from datetime import datetime\n",
    "gc = gspread.service_account(filename=\"DSSheetprathmesh.json\")\n",
    "wks = gc.open(\"ProjectWorkDS\").worksheet(\"ALLDATA\")\n",
    "values = wks.get_all_values()\n",
    "headers = values[0]\n",
    "df = pd.DataFrame(values[1:], columns=headers)"
   ]
  },
  {
   "cell_type": "code",
   "execution_count": 18,
   "metadata": {},
   "outputs": [
    {
     "ename": "KeyError",
     "evalue": "'जन्म तारीख '",
     "output_type": "error",
     "traceback": [
      "\u001b[1;31m---------------------------------------------------------------------------\u001b[0m",
      "\u001b[1;31mKeyError\u001b[0m                                  Traceback (most recent call last)",
      "Cell \u001b[1;32mIn[18], line 12\u001b[0m\n\u001b[0;32m      9\u001b[0m         \u001b[39mreturn\u001b[39;00m \u001b[39m'\u001b[39m\u001b[39mUNKNOWN\u001b[39m\u001b[39m'\u001b[39m\n\u001b[0;32m     11\u001b[0m \u001b[39m# Apply the calculate_age function to the Birthdate column and create a new 'Age' column\u001b[39;00m\n\u001b[1;32m---> 12\u001b[0m df[\u001b[39m'\u001b[39m\u001b[39mAge\u001b[39m\u001b[39m'\u001b[39m] \u001b[39m=\u001b[39m df[\u001b[39m'\u001b[39;49m\u001b[39mजन्म तारीख \u001b[39;49m\u001b[39m'\u001b[39;49m]\u001b[39m.\u001b[39mapply(calculate_age)\n\u001b[0;32m     14\u001b[0m \u001b[39m# Calculate age distribution\u001b[39;00m\n\u001b[0;32m     15\u001b[0m age_counts \u001b[39m=\u001b[39m df[\u001b[39m'\u001b[39m\u001b[39mAge\u001b[39m\u001b[39m'\u001b[39m]\u001b[39m.\u001b[39mvalue_counts()\u001b[39m.\u001b[39msort_index()\n",
      "File \u001b[1;32mc:\\Python\\Python311\\Lib\\site-packages\\pandas\\core\\frame.py:3761\u001b[0m, in \u001b[0;36mDataFrame.__getitem__\u001b[1;34m(self, key)\u001b[0m\n\u001b[0;32m   3759\u001b[0m \u001b[39mif\u001b[39;00m \u001b[39mself\u001b[39m\u001b[39m.\u001b[39mcolumns\u001b[39m.\u001b[39mnlevels \u001b[39m>\u001b[39m \u001b[39m1\u001b[39m:\n\u001b[0;32m   3760\u001b[0m     \u001b[39mreturn\u001b[39;00m \u001b[39mself\u001b[39m\u001b[39m.\u001b[39m_getitem_multilevel(key)\n\u001b[1;32m-> 3761\u001b[0m indexer \u001b[39m=\u001b[39m \u001b[39mself\u001b[39;49m\u001b[39m.\u001b[39;49mcolumns\u001b[39m.\u001b[39;49mget_loc(key)\n\u001b[0;32m   3762\u001b[0m \u001b[39mif\u001b[39;00m is_integer(indexer):\n\u001b[0;32m   3763\u001b[0m     indexer \u001b[39m=\u001b[39m [indexer]\n",
      "File \u001b[1;32mc:\\Python\\Python311\\Lib\\site-packages\\pandas\\core\\indexes\\range.py:349\u001b[0m, in \u001b[0;36mRangeIndex.get_loc\u001b[1;34m(self, key)\u001b[0m\n\u001b[0;32m    347\u001b[0m         \u001b[39mraise\u001b[39;00m \u001b[39mKeyError\u001b[39;00m(key) \u001b[39mfrom\u001b[39;00m \u001b[39merr\u001b[39;00m\n\u001b[0;32m    348\u001b[0m \u001b[39mif\u001b[39;00m \u001b[39misinstance\u001b[39m(key, Hashable):\n\u001b[1;32m--> 349\u001b[0m     \u001b[39mraise\u001b[39;00m \u001b[39mKeyError\u001b[39;00m(key)\n\u001b[0;32m    350\u001b[0m \u001b[39mself\u001b[39m\u001b[39m.\u001b[39m_check_indexing_error(key)\n\u001b[0;32m    351\u001b[0m \u001b[39mraise\u001b[39;00m \u001b[39mKeyError\u001b[39;00m(key)\n",
      "\u001b[1;31mKeyError\u001b[0m: 'जन्म तारीख '"
     ]
    }
   ],
   "source": [
    "# Function to calculate age\n",
    "def calculate_age(birthdate):\n",
    "    try:\n",
    "        birthdate = datetime.strptime(birthdate, '%Y-%m-%d')\n",
    "        today = datetime.today()\n",
    "        age = today.year - birthdate.year - ((today.month, today.day) < (birthdate.month, birthdate.day))\n",
    "        return age\n",
    "    except:\n",
    "        return 'UNKNOWN'\n",
    "\n",
    "# Apply the calculate_age function to the Birthdate column and create a new 'Age' column\n",
    "df['Age'] = df['जन्म तारीख '].apply(calculate_age)\n",
    "\n",
    "# Calculate age distribution\n",
    "age_counts = df['Age'].value_counts().sort_index()\n",
    "print(age_counts)\n",
    "\n",
    "# Find data using index\n",
    "def findDataUsingIndex(index):\n",
    "    datasystem_counts = df.iloc[:, index].value_counts()\n",
    "    \n",
    "    values = {}\n",
    "    for value, count in datasystem_counts.items():\n",
    "        value = value if pd.notnull(value) else 'UNKNOWN'\n",
    "        values[value] = count\n",
    "\n",
    "    return values\n",
    "\n",
    "index_to_analyze = 2  # Replace with the desired column index\n",
    "column_heading = df.columns[index_to_analyze]\n",
    "data_distribution = findDataUsingIndex(index_to_analyze)\n",
    "print(f\"Column: {column_heading}\")\n",
    "print(data_distribution)\n"
   ]
  },
  {
   "cell_type": "code",
   "execution_count": 20,
   "metadata": {},
   "outputs": [
    {
     "ename": "IndexError",
     "evalue": "list index out of range",
     "output_type": "error",
     "traceback": [
      "\u001b[1;31m---------------------------------------------------------------------------\u001b[0m",
      "\u001b[1;31mIndexError\u001b[0m                                Traceback (most recent call last)",
      "Cell \u001b[1;32mIn[20], line 30\u001b[0m\n\u001b[0;32m     27\u001b[0m ages \u001b[39m=\u001b[39m []\n\u001b[0;32m     29\u001b[0m \u001b[39mfor\u001b[39;00m birthdate \u001b[39min\u001b[39;00m data:\n\u001b[1;32m---> 30\u001b[0m     birth_year \u001b[39m=\u001b[39m \u001b[39mint\u001b[39m(birthdate\u001b[39m.\u001b[39;49msplit(\u001b[39m'\u001b[39;49m\u001b[39m/\u001b[39;49m\u001b[39m'\u001b[39;49m)[\u001b[39m2\u001b[39;49m])\n\u001b[0;32m     31\u001b[0m     age \u001b[39m=\u001b[39m current_year \u001b[39m-\u001b[39m birth_year\n\u001b[0;32m     32\u001b[0m     ages\u001b[39m.\u001b[39mappend(age)\n",
      "\u001b[1;31mIndexError\u001b[0m: list index out of range"
     ]
    }
   ],
   "source": [
    "# import gspread\n",
    "# from oauth2client.service_account import ServiceAccountCredentials\n",
    "# from datetime import datetime\n",
    "\n",
    "# # Set up Google Sheets API credentials\n",
    "# scope = [\"https://spreadsheets.google.com/feeds\", \"https://www.googleapis.com/auth/spreadsheets\",\n",
    "#          \"https://www.googleapis.com/auth/drive.file\", \"https://www.googleapis.com/auth/drive\"]\n",
    "# credentials = ServiceAccountCredentials.from_json_keyfile_name('path_to_your_credentials.json', scope)\n",
    "# client = gspread.authorize(credentials)\n",
    "\n",
    "# # Open the Google Sheet by its title\n",
    "# sheet_title = \"Your Google Sheet Title\"\n",
    "# sheet = client.open(sheet_title).sheet1  # Assuming the data is on the first sheet\n",
    "\n",
    "# # Get the data from column 2 (assuming column B) and calculate ages\n",
    "import gspread\n",
    "import pandas as pd\n",
    "from datetime import datetime\n",
    "gc = gspread.service_account(filename=\"DSSheetprathmesh.json\")\n",
    "wks = gc.open(\"ProjectWorkDS\").worksheet(\"ALLDATA\")\n",
    "data = wks.get_all_values()\n",
    "headers = data[0]\n",
    "df = pd.DataFrame(data[1:], columns=headers)\n",
    "\n",
    "data = wks.col_values(2)[1:]  # Exclude the header\n",
    "current_year = datetime.now().year\n",
    "ages = []\n",
    "\n",
    "for birthdate in data:\n",
    "    birth_year = int(birthdate.split('/')[2])\n",
    "    age = current_year - birth_year\n",
    "    ages.append(age)\n",
    "\n",
    "# Define age range for analysis\n",
    "min_age = 18\n",
    "max_age = 30\n",
    "\n",
    "# Filter people within the specified age range\n",
    "people_within_age_range = [age for age in ages if min_age <= age <= max_age]\n",
    "\n",
    "# Print the filtered ages\n",
    "print(\"Ages within the range of {} to {}: {}\".format(min_age, max_age, people_within_age_range))\n"
   ]
  },
  {
   "cell_type": "code",
   "execution_count": 28,
   "metadata": {},
   "outputs": [
    {
     "ename": "ValueError",
     "evalue": "cannot reindex on an axis with duplicate labels",
     "output_type": "error",
     "traceback": [
      "\u001b[1;31m---------------------------------------------------------------------------\u001b[0m",
      "\u001b[1;31mValueError\u001b[0m                                Traceback (most recent call last)",
      "Cell \u001b[1;32mIn[28], line 21\u001b[0m\n\u001b[0;32m     18\u001b[0m         \u001b[39mreturn\u001b[39;00m \u001b[39m'\u001b[39m\u001b[39mUNKNOWN\u001b[39m\u001b[39m'\u001b[39m\n\u001b[0;32m     20\u001b[0m \u001b[39m# Apply the calculate_age function to the Birthdate column and create a new 'Age' column\u001b[39;00m\n\u001b[1;32m---> 21\u001b[0m df[\u001b[39m'\u001b[39;49m\u001b[39mAge\u001b[39;49m\u001b[39m'\u001b[39;49m] \u001b[39m=\u001b[39m df[\u001b[39m'\u001b[39m\u001b[39mजन्म तारीख  \u001b[39m\u001b[39m'\u001b[39m]\u001b[39m.\u001b[39mapply(calculate_age)\n\u001b[0;32m     23\u001b[0m \u001b[39m# Calculate age distribution\u001b[39;00m\n\u001b[0;32m     24\u001b[0m age_counts \u001b[39m=\u001b[39m df[\u001b[39m'\u001b[39m\u001b[39mAge\u001b[39m\u001b[39m'\u001b[39m]\u001b[39m.\u001b[39mvalue_counts()\u001b[39m.\u001b[39msort_index()\n",
      "File \u001b[1;32mc:\\Python\\Python311\\Lib\\site-packages\\pandas\\core\\frame.py:3950\u001b[0m, in \u001b[0;36mDataFrame.__setitem__\u001b[1;34m(self, key, value)\u001b[0m\n\u001b[0;32m   3947\u001b[0m     \u001b[39mself\u001b[39m\u001b[39m.\u001b[39m_setitem_array([key], value)\n\u001b[0;32m   3948\u001b[0m \u001b[39melse\u001b[39;00m:\n\u001b[0;32m   3949\u001b[0m     \u001b[39m# set column\u001b[39;00m\n\u001b[1;32m-> 3950\u001b[0m     \u001b[39mself\u001b[39;49m\u001b[39m.\u001b[39;49m_set_item(key, value)\n",
      "File \u001b[1;32mc:\\Python\\Python311\\Lib\\site-packages\\pandas\\core\\frame.py:4143\u001b[0m, in \u001b[0;36mDataFrame._set_item\u001b[1;34m(self, key, value)\u001b[0m\n\u001b[0;32m   4133\u001b[0m \u001b[39mdef\u001b[39;00m \u001b[39m_set_item\u001b[39m(\u001b[39mself\u001b[39m, key, value) \u001b[39m-\u001b[39m\u001b[39m>\u001b[39m \u001b[39mNone\u001b[39;00m:\n\u001b[0;32m   4134\u001b[0m \u001b[39m    \u001b[39m\u001b[39m\"\"\"\u001b[39;00m\n\u001b[0;32m   4135\u001b[0m \u001b[39m    Add series to DataFrame in specified column.\u001b[39;00m\n\u001b[0;32m   4136\u001b[0m \n\u001b[1;32m   (...)\u001b[0m\n\u001b[0;32m   4141\u001b[0m \u001b[39m    ensure homogeneity.\u001b[39;00m\n\u001b[0;32m   4142\u001b[0m \u001b[39m    \"\"\"\u001b[39;00m\n\u001b[1;32m-> 4143\u001b[0m     value \u001b[39m=\u001b[39m \u001b[39mself\u001b[39;49m\u001b[39m.\u001b[39;49m_sanitize_column(value)\n\u001b[0;32m   4145\u001b[0m     \u001b[39mif\u001b[39;00m (\n\u001b[0;32m   4146\u001b[0m         key \u001b[39min\u001b[39;00m \u001b[39mself\u001b[39m\u001b[39m.\u001b[39mcolumns\n\u001b[0;32m   4147\u001b[0m         \u001b[39mand\u001b[39;00m value\u001b[39m.\u001b[39mndim \u001b[39m==\u001b[39m \u001b[39m1\u001b[39m\n\u001b[0;32m   4148\u001b[0m         \u001b[39mand\u001b[39;00m \u001b[39mnot\u001b[39;00m is_extension_array_dtype(value)\n\u001b[0;32m   4149\u001b[0m     ):\n\u001b[0;32m   4150\u001b[0m         \u001b[39m# broadcast across multiple columns if necessary\u001b[39;00m\n\u001b[0;32m   4151\u001b[0m         \u001b[39mif\u001b[39;00m \u001b[39mnot\u001b[39;00m \u001b[39mself\u001b[39m\u001b[39m.\u001b[39mcolumns\u001b[39m.\u001b[39mis_unique \u001b[39mor\u001b[39;00m \u001b[39misinstance\u001b[39m(\u001b[39mself\u001b[39m\u001b[39m.\u001b[39mcolumns, MultiIndex):\n",
      "File \u001b[1;32mc:\\Python\\Python311\\Lib\\site-packages\\pandas\\core\\frame.py:4867\u001b[0m, in \u001b[0;36mDataFrame._sanitize_column\u001b[1;34m(self, value)\u001b[0m\n\u001b[0;32m   4865\u001b[0m     \u001b[39mreturn\u001b[39;00m _reindex_for_setitem(value, \u001b[39mself\u001b[39m\u001b[39m.\u001b[39mindex)\n\u001b[0;32m   4866\u001b[0m \u001b[39melif\u001b[39;00m is_dict_like(value):\n\u001b[1;32m-> 4867\u001b[0m     \u001b[39mreturn\u001b[39;00m _reindex_for_setitem(Series(value), \u001b[39mself\u001b[39;49m\u001b[39m.\u001b[39;49mindex)\n\u001b[0;32m   4869\u001b[0m \u001b[39mif\u001b[39;00m is_list_like(value):\n\u001b[0;32m   4870\u001b[0m     com\u001b[39m.\u001b[39mrequire_length_match(value, \u001b[39mself\u001b[39m\u001b[39m.\u001b[39mindex)\n",
      "File \u001b[1;32mc:\\Python\\Python311\\Lib\\site-packages\\pandas\\core\\frame.py:11615\u001b[0m, in \u001b[0;36m_reindex_for_setitem\u001b[1;34m(value, index)\u001b[0m\n\u001b[0;32m  11611\u001b[0m \u001b[39mexcept\u001b[39;00m \u001b[39mValueError\u001b[39;00m \u001b[39mas\u001b[39;00m err:\n\u001b[0;32m  11612\u001b[0m     \u001b[39m# raised in MultiIndex.from_tuples, see test_insert_error_msmgs\u001b[39;00m\n\u001b[0;32m  11613\u001b[0m     \u001b[39mif\u001b[39;00m \u001b[39mnot\u001b[39;00m value\u001b[39m.\u001b[39mindex\u001b[39m.\u001b[39mis_unique:\n\u001b[0;32m  11614\u001b[0m         \u001b[39m# duplicate axis\u001b[39;00m\n\u001b[1;32m> 11615\u001b[0m         \u001b[39mraise\u001b[39;00m err\n\u001b[0;32m  11617\u001b[0m     \u001b[39mraise\u001b[39;00m \u001b[39mTypeError\u001b[39;00m(\n\u001b[0;32m  11618\u001b[0m         \u001b[39m\"\u001b[39m\u001b[39mincompatible index of inserted column with frame index\u001b[39m\u001b[39m\"\u001b[39m\n\u001b[0;32m  11619\u001b[0m     ) \u001b[39mfrom\u001b[39;00m \u001b[39merr\u001b[39;00m\n\u001b[0;32m  11620\u001b[0m \u001b[39mreturn\u001b[39;00m reindexed_value\n",
      "File \u001b[1;32mc:\\Python\\Python311\\Lib\\site-packages\\pandas\\core\\frame.py:11610\u001b[0m, in \u001b[0;36m_reindex_for_setitem\u001b[1;34m(value, index)\u001b[0m\n\u001b[0;32m  11608\u001b[0m \u001b[39m# GH#4107\u001b[39;00m\n\u001b[0;32m  11609\u001b[0m \u001b[39mtry\u001b[39;00m:\n\u001b[1;32m> 11610\u001b[0m     reindexed_value \u001b[39m=\u001b[39m value\u001b[39m.\u001b[39;49mreindex(index)\u001b[39m.\u001b[39m_values\n\u001b[0;32m  11611\u001b[0m \u001b[39mexcept\u001b[39;00m \u001b[39mValueError\u001b[39;00m \u001b[39mas\u001b[39;00m err:\n\u001b[0;32m  11612\u001b[0m     \u001b[39m# raised in MultiIndex.from_tuples, see test_insert_error_msmgs\u001b[39;00m\n\u001b[0;32m  11613\u001b[0m     \u001b[39mif\u001b[39;00m \u001b[39mnot\u001b[39;00m value\u001b[39m.\u001b[39mindex\u001b[39m.\u001b[39mis_unique:\n\u001b[0;32m  11614\u001b[0m         \u001b[39m# duplicate axis\u001b[39;00m\n",
      "File \u001b[1;32mc:\\Python\\Python311\\Lib\\site-packages\\pandas\\core\\series.py:4918\u001b[0m, in \u001b[0;36mSeries.reindex\u001b[1;34m(self, index, axis, method, copy, level, fill_value, limit, tolerance)\u001b[0m\n\u001b[0;32m   4901\u001b[0m \u001b[39m@doc\u001b[39m(\n\u001b[0;32m   4902\u001b[0m     NDFrame\u001b[39m.\u001b[39mreindex,  \u001b[39m# type: ignore[has-type]\u001b[39;00m\n\u001b[0;32m   4903\u001b[0m     klass\u001b[39m=\u001b[39m_shared_doc_kwargs[\u001b[39m\"\u001b[39m\u001b[39mklass\u001b[39m\u001b[39m\"\u001b[39m],\n\u001b[1;32m   (...)\u001b[0m\n\u001b[0;32m   4916\u001b[0m     tolerance\u001b[39m=\u001b[39m\u001b[39mNone\u001b[39;00m,\n\u001b[0;32m   4917\u001b[0m ) \u001b[39m-\u001b[39m\u001b[39m>\u001b[39m Series:\n\u001b[1;32m-> 4918\u001b[0m     \u001b[39mreturn\u001b[39;00m \u001b[39msuper\u001b[39;49m()\u001b[39m.\u001b[39;49mreindex(\n\u001b[0;32m   4919\u001b[0m         index\u001b[39m=\u001b[39;49mindex,\n\u001b[0;32m   4920\u001b[0m         method\u001b[39m=\u001b[39;49mmethod,\n\u001b[0;32m   4921\u001b[0m         copy\u001b[39m=\u001b[39;49mcopy,\n\u001b[0;32m   4922\u001b[0m         level\u001b[39m=\u001b[39;49mlevel,\n\u001b[0;32m   4923\u001b[0m         fill_value\u001b[39m=\u001b[39;49mfill_value,\n\u001b[0;32m   4924\u001b[0m         limit\u001b[39m=\u001b[39;49mlimit,\n\u001b[0;32m   4925\u001b[0m         tolerance\u001b[39m=\u001b[39;49mtolerance,\n\u001b[0;32m   4926\u001b[0m     )\n",
      "File \u001b[1;32mc:\\Python\\Python311\\Lib\\site-packages\\pandas\\core\\generic.py:5360\u001b[0m, in \u001b[0;36mNDFrame.reindex\u001b[1;34m(self, labels, index, columns, axis, method, copy, level, fill_value, limit, tolerance)\u001b[0m\n\u001b[0;32m   5357\u001b[0m     \u001b[39mreturn\u001b[39;00m \u001b[39mself\u001b[39m\u001b[39m.\u001b[39m_reindex_multi(axes, copy, fill_value)\n\u001b[0;32m   5359\u001b[0m \u001b[39m# perform the reindex on the axes\u001b[39;00m\n\u001b[1;32m-> 5360\u001b[0m \u001b[39mreturn\u001b[39;00m \u001b[39mself\u001b[39;49m\u001b[39m.\u001b[39;49m_reindex_axes(\n\u001b[0;32m   5361\u001b[0m     axes, level, limit, tolerance, method, fill_value, copy\n\u001b[0;32m   5362\u001b[0m )\u001b[39m.\u001b[39m__finalize__(\u001b[39mself\u001b[39m, method\u001b[39m=\u001b[39m\u001b[39m\"\u001b[39m\u001b[39mreindex\u001b[39m\u001b[39m\"\u001b[39m)\n",
      "File \u001b[1;32mc:\\Python\\Python311\\Lib\\site-packages\\pandas\\core\\generic.py:5375\u001b[0m, in \u001b[0;36mNDFrame._reindex_axes\u001b[1;34m(self, axes, level, limit, tolerance, method, fill_value, copy)\u001b[0m\n\u001b[0;32m   5372\u001b[0m     \u001b[39mcontinue\u001b[39;00m\n\u001b[0;32m   5374\u001b[0m ax \u001b[39m=\u001b[39m \u001b[39mself\u001b[39m\u001b[39m.\u001b[39m_get_axis(a)\n\u001b[1;32m-> 5375\u001b[0m new_index, indexer \u001b[39m=\u001b[39m ax\u001b[39m.\u001b[39;49mreindex(\n\u001b[0;32m   5376\u001b[0m     labels, level\u001b[39m=\u001b[39;49mlevel, limit\u001b[39m=\u001b[39;49mlimit, tolerance\u001b[39m=\u001b[39;49mtolerance, method\u001b[39m=\u001b[39;49mmethod\n\u001b[0;32m   5377\u001b[0m )\n\u001b[0;32m   5379\u001b[0m axis \u001b[39m=\u001b[39m \u001b[39mself\u001b[39m\u001b[39m.\u001b[39m_get_axis_number(a)\n\u001b[0;32m   5380\u001b[0m obj \u001b[39m=\u001b[39m obj\u001b[39m.\u001b[39m_reindex_with_indexers(\n\u001b[0;32m   5381\u001b[0m     {axis: [new_index, indexer]},\n\u001b[0;32m   5382\u001b[0m     fill_value\u001b[39m=\u001b[39mfill_value,\n\u001b[0;32m   5383\u001b[0m     copy\u001b[39m=\u001b[39mcopy,\n\u001b[0;32m   5384\u001b[0m     allow_dups\u001b[39m=\u001b[39m\u001b[39mFalse\u001b[39;00m,\n\u001b[0;32m   5385\u001b[0m )\n",
      "File \u001b[1;32mc:\\Python\\Python311\\Lib\\site-packages\\pandas\\core\\indexes\\base.py:4275\u001b[0m, in \u001b[0;36mIndex.reindex\u001b[1;34m(self, target, method, level, limit, tolerance)\u001b[0m\n\u001b[0;32m   4272\u001b[0m     \u001b[39mraise\u001b[39;00m \u001b[39mValueError\u001b[39;00m(\u001b[39m\"\u001b[39m\u001b[39mcannot handle a non-unique multi-index!\u001b[39m\u001b[39m\"\u001b[39m)\n\u001b[0;32m   4273\u001b[0m \u001b[39melif\u001b[39;00m \u001b[39mnot\u001b[39;00m \u001b[39mself\u001b[39m\u001b[39m.\u001b[39mis_unique:\n\u001b[0;32m   4274\u001b[0m     \u001b[39m# GH#42568\u001b[39;00m\n\u001b[1;32m-> 4275\u001b[0m     \u001b[39mraise\u001b[39;00m \u001b[39mValueError\u001b[39;00m(\u001b[39m\"\u001b[39m\u001b[39mcannot reindex on an axis with duplicate labels\u001b[39m\u001b[39m\"\u001b[39m)\n\u001b[0;32m   4276\u001b[0m \u001b[39melse\u001b[39;00m:\n\u001b[0;32m   4277\u001b[0m     indexer, _ \u001b[39m=\u001b[39m \u001b[39mself\u001b[39m\u001b[39m.\u001b[39mget_indexer_non_unique(target)\n",
      "\u001b[1;31mValueError\u001b[0m: cannot reindex on an axis with duplicate labels"
     ]
    }
   ],
   "source": [
    "import gspread\n",
    "import pandas as pd\n",
    "from datetime import datetime\n",
    "\n",
    "gc = gspread.service_account(filename=\"DSSheetprathmesh.json\")\n",
    "wks = gc.open(\"ProjectWorkDS\").worksheet(\"ALLDATA\")\n",
    "data = wks.get_all_values()\n",
    "headers = data[0]\n",
    "df = pd.DataFrame(data[1:], columns=headers)\n",
    "\n",
    "# Function to calculate age\n",
    "def calculate_age(birthdate):\n",
    "    try:\n",
    "        birth_date = datetime.strptime(birthdate, '%m/%d/%Y')\n",
    "        age = datetime.now().year - birth_date.year - ((datetime.now().month, datetime.now().day) < (birth_date.month, birth_date.day))\n",
    "        return age\n",
    "    except:\n",
    "        return 'UNKNOWN'\n",
    "\n",
    "# Apply the calculate_age function to the Birthdate column and create a new 'Age' column\n",
    "df['Age'] = df['जन्म तारीख  '].apply(calculate_age)\n",
    "\n",
    "# Calculate age distribution\n",
    "age_counts = df['Age'].value_counts().sort_index()\n",
    "\n",
    "# Print age distribution\n",
    "print(age_counts)\n"
   ]
  },
  {
   "cell_type": "code",
   "execution_count": 27,
   "metadata": {},
   "outputs": [
    {
     "name": "stdout",
     "output_type": "stream",
     "text": [
      "Column Headers: ['टाइमस्टँप', 'कुटुंब प्रमुखाचे नावं', 'जन्म तारीख  ', 'लिंग ', 'मोबाईल क्रमांक ', 'शिक्षण ', 'नोकरी / व्यवसाय ', 'व्यवसायाचा  प्रकार / नाव  ', 'सध्या तुम्ही कुठे राहता?  कृपया गावाचे नाव लिहा.', 'विकलांग ?', 'पेंशन मिळते का ?', 'विधवा आहे का ?', 'परितक्त्या आहे का ?', 'दुर्दर आजार आहे का ?', 'अजून कुटुंब सदस्य जोडायचा आहे का ?', 'घराची स्थिती ', 'पिण्याच्या पाण्याचे ग्रामपंचायतीचे कनेक्शन आहे का ?', 'पिण्याच्या पाण्याची सोय ', 'शौचालय व्यवस्था ', 'सांडपाणी व्यवस्था ', 'शेत जमीन क्षेत्र किती?', 'शेतामधील पाणी व्यवस्था', 'शेतजमिनीत असणारी झाडांची संख्या ', 'जात / धर्म ', 'कुटुंबाच्या उत्पन्नाच मुख्य स्तोत्र ?', 'कुटुंबाचे वार्षिक उत्पन्न ?', 'रेशनकार्ड प्रकार ', 'जनावरे आहेत का ?', 'ऐकूण गायींची संख्या ', 'ऐकूण बैलांची संख्या ', 'ऐकूण म्हैस संख्या ', 'ऐकूण शेळींची संख्या ', 'ऐकूण कोंबडींची संख्या ', 'इतर प्राणी (मांजर / कुत्री ) संख्या ', 'कुटुंब सदस्याचे नावं ', 'जन्म तारीख  ', 'लिंग ', 'मोबाईल क्रमांक ', 'शिक्षण ', 'नोकरी / व्यवसाय ', 'व्यवसायाचा  प्रकार / नाव  ', 'सध्या तुम्ही कुठे राहता?  कृपया गावाचे नाव लिहा', 'विकलांग ?', 'पेंशन मिळते का ?', 'विधवा आहे का ?', 'परितक्त्या आहे का ?', 'दुर्दर आजार आहे का ?', 'अजून कुटुंब सदस्य जोडायचा आहे का ?', 'कुटुंब सदस्याचे नावं ', 'जन्म तारीख  ', 'लिंग ', 'मोबाईल क्रमांक ', 'शिक्षण ', 'नोकरी / व्यवसाय ', 'व्यवसायाचा  प्रकार / नाव  ', 'सध्या तुम्ही कुठे राहता?  कृपया गावाचे नाव लिहा', 'विकलांग ?', 'पेंशन मिळते का ?', 'विधवा आहे का ?', 'परितक्त्या आहे का ?', 'दुर्दर आजार आहे का ?', 'अजून कुटुंब सदस्य जोडायचा आहे का ?', 'कुटुंब सदस्याचे नावं ', 'जन्म तारीख  ', 'लिंग ', 'मोबाईल क्रमांक ', 'शिक्षण ', 'नोकरी / व्यवसाय ', 'व्यवसायाचा  प्रकार / नाव  ', 'सध्या तुम्ही कुठे राहता?  कृपया गावाचे नाव लिहा', 'विकलांग ?', 'पेंशन मिळते का ?', 'विधवा आहे का ?', 'परितक्त्या आहे का ?', 'दुर्दर आजार आहे का ?', 'अजून कुटुंब सदस्य जोडायचा आहे का ?', 'कुटुंब सदस्याचे नावं ', 'जन्म तारीख  ', 'लिंग ', 'मोबाईल क्रमांक ', 'शिक्षण ', 'नोकरी / व्यवसाय ', 'व्यवसायाचा  प्रकार / नाव  ', 'सध्या तुम्ही कुठे राहता?  कृपया गावाचे नाव लिहा.', 'विकलांग ?', 'पेंशन मिळते का ?', 'विधवा आहे का ?', 'परितक्त्या आहे का ?', 'दुर्दर आजार आहे का ?', 'अजून कुटुंब सदस्य जोडायचा आहे का ?', 'कुटुंब सदस्याचे नावं ', 'जन्म तारीख  ', 'लिंग ', 'मोबाईल क्रमांक ', 'शिक्षण ', 'नोकरी / व्यवसाय ', 'व्यवसायाचा  प्रकार / नाव  ', 'सध्या तुम्ही कुठे राहता?  कृपया गावाचे नाव लिहा.', 'विकलांग ?', 'पेंशन मिळते का ?', 'विधवा आहे का ?', 'परितक्त्या आहे का ?', 'दुर्दर आजार आहे का ?', 'अजून कुटुंब सदस्य जोडायचा आहे का ?', 'कुटुंब सदस्याचे नावं ', 'जन्म तारीख  ', 'लिंग ', 'मोबाईल क्रमांक ', 'शिक्षण ', 'नोकरी / व्यवसाय ', 'व्यवसायाचा  प्रकार / नाव  ', 'सध्या तुम्ही कुठे राहता?  कृपया गावाचे नाव लिहा.', 'विकलांग ?', 'पेंशन मिळते का ?', 'विधवा आहे का ?', 'परितक्त्या आहे का ?', 'दुर्दर आजार आहे का ?', 'अजून कुटुंब सदस्य जोडायचा आहे का ?', 'कुटुंब सदस्याचे नावं ', 'जन्म तारीख  ', 'लिंग ', 'मोबाईल क्रमांक ', 'शिक्षण ', 'नोकरी / व्यवसाय ', 'व्यवसायाचा  प्रकार / नाव  ', 'सध्या तुम्ही कुठे राहता?  कृपया गावाचे नाव लिहा.', 'विकलांग ?', 'पेंशन मिळते का ?', 'विधवा आहे का ?', 'परितक्त्या आहे का ?', 'दुर्दर आजार आहे का ?', 'अजून कुटुंब सदस्य जोडायचा आहे का ?', 'कुटुंब सदस्याचे नावं ', 'जन्म तारीख  ', 'लिंग ', 'मोबाईल क्रमांक ', 'शिक्षण ', 'नोकरी / व्यवसाय ', 'व्यवसायाचा  प्रकार / नाव  ', 'सध्या तुम्ही कुठे राहता?  कृपया गावाचे नाव लिहा.', 'विकलांग ?', 'पेंशन मिळते का ?', 'विधवा आहे का ?', 'परितक्त्या आहे का ?', 'दुर्दर आजार आहे का ?', 'अजून कुटुंब सदस्य जोडायचा आहे का ?', 'कुटुंब सदस्याचे नावं ', 'जन्म तारीख  ', 'लिंग ', 'मोबाईल क्रमांक ', 'शिक्षण ', 'नोकरी / व्यवसाय ', 'व्यवसायाचा  प्रकार / नाव  ', 'सध्या तुम्ही कुठे राहता?  कृपया गावाचे नाव लिहा.', 'विकलांग ?', 'पेंशन मिळते का ?', 'विधवा आहे का ?', 'परितक्त्या आहे का ?', 'दुर्दर आजार आहे का ?', 'अजून कुटुंब सदस्य जोडायचा आहे का ?', 'कुटुंब सदस्याचे नावं ', 'जन्म तारीख  ', 'लिंग ', 'मोबाईल क्रमांक ', 'शिक्षण ', 'नोकरी / व्यवसाय ', 'व्यवसायाचा  प्रकार / नाव  ', 'सध्या तुम्ही कुठे राहता?  कृपया गावाचे नाव लिहा.', 'विकलांग ?', 'पेंशन मिळते का ?', 'विधवा आहे का ?', 'परितक्त्या आहे का ?', 'दुर्दर आजार आहे का ?', 'अजून कुटुंब सदस्य जोडायचा आहे का ?', 'कुटुंब सदस्याचे नावं ', 'जन्म तारीख  ', 'लिंग ', 'मोबाईल क्रमांक ', 'शिक्षण ', 'नोकरी / व्यवसाय ', 'व्यवसायाचा  प्रकार / नाव  ', 'सध्या तुम्ही कुठे राहता?  कृपया गावाचे नाव लिहा.', 'विकलांग ?', 'पेंशन मिळते का ?', 'विधवा आहे का ?', 'परितक्त्या आहे का ?', 'दुर्दर आजार आहे का ?', 'अजून कुटुंब सदस्य जोडायचा आहे का ?', '']\n"
     ]
    }
   ],
   "source": [
    "headers = data[0]\n",
    "print(\"Column Headers:\", headers)\n",
    "df = pd.DataFrame(data[1:], columns=headers)\n"
   ]
  },
  {
   "cell_type": "code",
   "execution_count": 29,
   "metadata": {},
   "outputs": [
    {
     "ename": "ValueError",
     "evalue": "Cannot set a DataFrame with multiple columns to the single column Age",
     "output_type": "error",
     "traceback": [
      "\u001b[1;31m---------------------------------------------------------------------------\u001b[0m",
      "\u001b[1;31mValueError\u001b[0m                                Traceback (most recent call last)",
      "\u001b[1;32m~\\AppData\\Local\\Temp\\ipykernel_135580\\3809168005.py\u001b[0m in \u001b[0;36m?\u001b[1;34m()\u001b[0m\n\u001b[0;32m      1\u001b[0m \u001b[1;31m# Apply the calculate_age function to the specific columns and create a new 'Age' column\u001b[0m\u001b[1;33m\u001b[0m\u001b[1;33m\u001b[0m\u001b[0m\n\u001b[0;32m      2\u001b[0m \u001b[0mdate_columns\u001b[0m \u001b[1;33m=\u001b[0m \u001b[0mdf\u001b[0m\u001b[1;33m.\u001b[0m\u001b[0mcolumns\u001b[0m\u001b[1;33m[\u001b[0m\u001b[1;36m1\u001b[0m\u001b[1;33m:\u001b[0m\u001b[1;36m15\u001b[0m\u001b[1;33m]\u001b[0m  \u001b[1;31m# Assuming the date columns are from index 1 to 14\u001b[0m\u001b[1;33m\u001b[0m\u001b[1;33m\u001b[0m\u001b[0m\n\u001b[1;32m----> 3\u001b[1;33m \u001b[0mdf\u001b[0m\u001b[1;33m[\u001b[0m\u001b[1;34m'Age'\u001b[0m\u001b[1;33m]\u001b[0m \u001b[1;33m=\u001b[0m \u001b[0mdf\u001b[0m\u001b[1;33m[\u001b[0m\u001b[0mdate_columns\u001b[0m\u001b[1;33m]\u001b[0m\u001b[1;33m.\u001b[0m\u001b[0mapplymap\u001b[0m\u001b[1;33m(\u001b[0m\u001b[0mcalculate_age\u001b[0m\u001b[1;33m)\u001b[0m\u001b[1;33m\u001b[0m\u001b[1;33m\u001b[0m\u001b[0m\n\u001b[0m\u001b[0;32m      4\u001b[0m \u001b[1;33m\u001b[0m\u001b[0m\n\u001b[0;32m      5\u001b[0m \u001b[1;31m# Calculate age distribution\u001b[0m\u001b[1;33m\u001b[0m\u001b[1;33m\u001b[0m\u001b[0m\n\u001b[0;32m      6\u001b[0m \u001b[0mage_counts\u001b[0m \u001b[1;33m=\u001b[0m \u001b[0mdf\u001b[0m\u001b[1;33m[\u001b[0m\u001b[1;34m'Age'\u001b[0m\u001b[1;33m]\u001b[0m\u001b[1;33m.\u001b[0m\u001b[0mvalue_counts\u001b[0m\u001b[1;33m(\u001b[0m\u001b[1;33m)\u001b[0m\u001b[1;33m.\u001b[0m\u001b[0msort_index\u001b[0m\u001b[1;33m(\u001b[0m\u001b[1;33m)\u001b[0m\u001b[1;33m\u001b[0m\u001b[1;33m\u001b[0m\u001b[0m\n",
      "\u001b[1;32mc:\\Python\\Python311\\Lib\\site-packages\\pandas\\core\\frame.py\u001b[0m in \u001b[0;36m?\u001b[1;34m(self, key, value)\u001b[0m\n\u001b[0;32m   3936\u001b[0m             \u001b[0mself\u001b[0m\u001b[1;33m.\u001b[0m\u001b[0m_setitem_frame\u001b[0m\u001b[1;33m(\u001b[0m\u001b[0mkey\u001b[0m\u001b[1;33m,\u001b[0m \u001b[0mvalue\u001b[0m\u001b[1;33m)\u001b[0m\u001b[1;33m\u001b[0m\u001b[1;33m\u001b[0m\u001b[0m\n\u001b[0;32m   3937\u001b[0m         \u001b[1;32melif\u001b[0m \u001b[0misinstance\u001b[0m\u001b[1;33m(\u001b[0m\u001b[0mkey\u001b[0m\u001b[1;33m,\u001b[0m \u001b[1;33m(\u001b[0m\u001b[0mSeries\u001b[0m\u001b[1;33m,\u001b[0m \u001b[0mnp\u001b[0m\u001b[1;33m.\u001b[0m\u001b[0mndarray\u001b[0m\u001b[1;33m,\u001b[0m \u001b[0mlist\u001b[0m\u001b[1;33m,\u001b[0m \u001b[0mIndex\u001b[0m\u001b[1;33m)\u001b[0m\u001b[1;33m)\u001b[0m\u001b[1;33m:\u001b[0m\u001b[1;33m\u001b[0m\u001b[1;33m\u001b[0m\u001b[0m\n\u001b[0;32m   3938\u001b[0m             \u001b[0mself\u001b[0m\u001b[1;33m.\u001b[0m\u001b[0m_setitem_array\u001b[0m\u001b[1;33m(\u001b[0m\u001b[0mkey\u001b[0m\u001b[1;33m,\u001b[0m \u001b[0mvalue\u001b[0m\u001b[1;33m)\u001b[0m\u001b[1;33m\u001b[0m\u001b[1;33m\u001b[0m\u001b[0m\n\u001b[0;32m   3939\u001b[0m         \u001b[1;32melif\u001b[0m \u001b[0misinstance\u001b[0m\u001b[1;33m(\u001b[0m\u001b[0mvalue\u001b[0m\u001b[1;33m,\u001b[0m \u001b[0mDataFrame\u001b[0m\u001b[1;33m)\u001b[0m\u001b[1;33m:\u001b[0m\u001b[1;33m\u001b[0m\u001b[1;33m\u001b[0m\u001b[0m\n\u001b[1;32m-> 3940\u001b[1;33m             \u001b[0mself\u001b[0m\u001b[1;33m.\u001b[0m\u001b[0m_set_item_frame_value\u001b[0m\u001b[1;33m(\u001b[0m\u001b[0mkey\u001b[0m\u001b[1;33m,\u001b[0m \u001b[0mvalue\u001b[0m\u001b[1;33m)\u001b[0m\u001b[1;33m\u001b[0m\u001b[1;33m\u001b[0m\u001b[0m\n\u001b[0m\u001b[0;32m   3941\u001b[0m         elif (\n\u001b[0;32m   3942\u001b[0m             \u001b[0mis_list_like\u001b[0m\u001b[1;33m(\u001b[0m\u001b[0mvalue\u001b[0m\u001b[1;33m)\u001b[0m\u001b[1;33m\u001b[0m\u001b[1;33m\u001b[0m\u001b[0m\n\u001b[0;32m   3943\u001b[0m             \u001b[1;32mand\u001b[0m \u001b[1;32mnot\u001b[0m \u001b[0mself\u001b[0m\u001b[1;33m.\u001b[0m\u001b[0mcolumns\u001b[0m\u001b[1;33m.\u001b[0m\u001b[0mis_unique\u001b[0m\u001b[1;33m\u001b[0m\u001b[1;33m\u001b[0m\u001b[0m\n",
      "\u001b[1;32mc:\\Python\\Python311\\Lib\\site-packages\\pandas\\core\\frame.py\u001b[0m in \u001b[0;36m?\u001b[1;34m(self, key, value)\u001b[0m\n\u001b[0;32m   4090\u001b[0m             \u001b[0mself\u001b[0m\u001b[1;33m.\u001b[0m\u001b[0m_set_item_mgr\u001b[0m\u001b[1;33m(\u001b[0m\u001b[0mkey\u001b[0m\u001b[1;33m,\u001b[0m \u001b[0marraylike\u001b[0m\u001b[1;33m)\u001b[0m\u001b[1;33m\u001b[0m\u001b[1;33m\u001b[0m\u001b[0m\n\u001b[0;32m   4091\u001b[0m             \u001b[1;32mreturn\u001b[0m\u001b[1;33m\u001b[0m\u001b[1;33m\u001b[0m\u001b[0m\n\u001b[0;32m   4092\u001b[0m \u001b[1;33m\u001b[0m\u001b[0m\n\u001b[0;32m   4093\u001b[0m         \u001b[1;32mif\u001b[0m \u001b[0mlen\u001b[0m\u001b[1;33m(\u001b[0m\u001b[0mvalue\u001b[0m\u001b[1;33m.\u001b[0m\u001b[0mcolumns\u001b[0m\u001b[1;33m)\u001b[0m \u001b[1;33m!=\u001b[0m \u001b[1;36m1\u001b[0m\u001b[1;33m:\u001b[0m\u001b[1;33m\u001b[0m\u001b[1;33m\u001b[0m\u001b[0m\n\u001b[1;32m-> 4094\u001b[1;33m             raise ValueError(\n\u001b[0m\u001b[0;32m   4095\u001b[0m                 \u001b[1;34m\"Cannot set a DataFrame with multiple columns to the single \"\u001b[0m\u001b[1;33m\u001b[0m\u001b[1;33m\u001b[0m\u001b[0m\n\u001b[0;32m   4096\u001b[0m                 \u001b[1;34mf\"column {key}\"\u001b[0m\u001b[1;33m\u001b[0m\u001b[1;33m\u001b[0m\u001b[0m\n\u001b[0;32m   4097\u001b[0m             )\n",
      "\u001b[1;31mValueError\u001b[0m: Cannot set a DataFrame with multiple columns to the single column Age"
     ]
    }
   ],
   "source": [
    "# Apply the calculate_age function to the specific columns and create a new 'Age' column\n",
    "date_columns = df.columns[1:15]  # Assuming the date columns are from index 1 to 14\n",
    "df['Age'] = df[date_columns].applymap(calculate_age)\n",
    "\n",
    "# Calculate age distribution\n",
    "age_counts = df['Age'].value_counts().sort_index()\n",
    "\n",
    "# Print age distribution\n",
    "print(age_counts)\n"
   ]
  },
  {
   "cell_type": "code",
   "execution_count": 30,
   "metadata": {},
   "outputs": [
    {
     "name": "stdout",
     "output_type": "stream",
     "text": [
      "Age\n",
      "31    1\n",
      "33    1\n",
      "34    1\n",
      "37    1\n",
      "Name: count, dtype: int64\n",
      "Column: Birthdate\n",
      "{'1990-05-15': 1, '1985-10-20': 1, '1992-02-10': 1, '1988-09-03': 1}\n"
     ]
    }
   ],
   "source": [
    "import pandas as pd\n",
    "from datetime import datetime\n",
    "\n",
    "# Sample data\n",
    "data = {\n",
    "    'Name': ['Alice', 'Bob', 'Charlie', 'David'],\n",
    "    'Birthdate': ['1990-05-15', '1985-10-20', '1992-02-10', '1988-09-03']\n",
    "}\n",
    "\n",
    "df = pd.DataFrame(data)\n",
    "\n",
    "# Function to calculate age\n",
    "def calculate_age(birthdate):\n",
    "    try:\n",
    "        birthdate = datetime.strptime(birthdate, '%Y-%m-%d')\n",
    "        today = datetime.today()\n",
    "        age = today.year - birthdate.year - ((today.month, today.day) < (birthdate.month, birthdate.day))\n",
    "        return age\n",
    "    except:\n",
    "        return 'UNKNOWN'\n",
    "\n",
    "# Apply the calculate_age function to the Birthdate column and create a new 'Age' column\n",
    "df['Age'] = df['Birthdate'].apply(calculate_age)\n",
    "\n",
    "# Calculate age distribution\n",
    "age_counts = df['Age'].value_counts().sort_index()\n",
    "print(age_counts)\n",
    "\n",
    "# Find data using index\n",
    "def findDataUsingIndex(index):\n",
    "    column_heading = df.columns[index]\n",
    "    value_counts = df.iloc[:, index].value_counts()\n",
    "    \n",
    "    values = {}\n",
    "    for value, count in value_counts.items():\n",
    "        value = value if pd.notnull(value) else 'UNKNOWN'\n",
    "        values[value] = count\n",
    "\n",
    "    print(f\"Column: {column_heading}\")\n",
    "    print(values)\n",
    "\n",
    "findDataUsingIndex(1)  # Replace 1 with the desired column index\n"
   ]
  },
  {
   "cell_type": "code",
   "execution_count": null,
   "metadata": {},
   "outputs": [],
   "source": []
  }
 ],
 "metadata": {
  "kernelspec": {
   "display_name": "Python 3",
   "language": "python",
   "name": "python3"
  },
  "language_info": {
   "codemirror_mode": {
    "name": "ipython",
    "version": 3
   },
   "file_extension": ".py",
   "mimetype": "text/x-python",
   "name": "python",
   "nbconvert_exporter": "python",
   "pygments_lexer": "ipython3",
   "version": "3.11.1"
  },
  "orig_nbformat": 4
 },
 "nbformat": 4,
 "nbformat_minor": 2
}
